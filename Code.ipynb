{
 "cells": [
  {
   "cell_type": "markdown",
   "id": "eaddd1f1-0c81-4f00-9dd0-5380db82b8f9",
   "metadata": {},
   "source": [
    "# 1. Boiling Points simple estimation\n",
    "\n",
    "**Task**: Use molecular descriptors (like molecular weight, polarity, and hydrogen bonding) to estimate the boiling point.\n",
    "\n",
    "**Hint**:\n",
    "\n",
    "* Larger molecules → Higher BP\n",
    "* More polar molecules → Higher BP\n",
    "* More hydrogen bonding (e.g., -OH, -NH2) → Much higher BP\n",
    "\n",
    "We'll present the function:\n",
    "BP = a*MolWeight+b*Hydrogen Donors+c*Hydrogen Acceptors+d*log(P)+e"
   ]
  },
  {
   "cell_type": "markdown",
   "id": "8df0ffe1-0dff-43bb-bbe5-3c3b41767a85",
   "metadata": {},
   "source": [
    "## Obtain data, calculate a, b, c, d, e\n",
    "\n",
    "Because the database is too big, I take a sample of 500 subtances for better performance."
   ]
  },
  {
   "cell_type": "code",
   "execution_count": 84,
   "id": "3114980c-e374-4821-97f7-a4489da28a39",
   "metadata": {},
   "outputs": [],
   "source": [
    "import pandas as pd\n",
    "import pubchempy as pcp\n",
    "import numpy as np\n",
    "import random\n",
    "import matplotlib.pyplot as plt\n",
    "import seaborn as sns"
   ]
  },
  {
   "cell_type": "code",
   "execution_count": 3,
   "id": "40c62f9b-41cd-4e58-b59c-0ffd3f621664",
   "metadata": {},
   "outputs": [],
   "source": [
    "df=pd.read_csv('data_file.csv').drop(columns='Unnamed: 0')"
   ]
  },
  {
   "cell_type": "code",
   "execution_count": 6,
   "id": "3d750899-aec2-4104-8da2-73c80daee401",
   "metadata": {},
   "outputs": [],
   "source": [
    "names=list(df['name'])\n",
    "sample_names=random.sample(names,500)"
   ]
  },
  {
   "cell_type": "code",
   "execution_count": 8,
   "id": "5f139f6e-ee6c-4826-9ef8-14f89f1d35d1",
   "metadata": {},
   "outputs": [],
   "source": [
    "import concurrent.futures\n",
    "\n",
    "def get_smiles(name):\n",
    "    \"\"\"Trả về SMILES từ tên hợp chất bằng PubChem\"\"\"\n",
    "    compound = pcp.get_compounds(name, 'name')\n",
    "    return compound[0].isomeric_smiles if compound else None\n",
    "\n",
    "# Chạy nhiều requests cùng lúc để tăng tốc\n",
    "with concurrent.futures.ThreadPoolExecutor(max_workers=3) as executor:\n",
    "    smiles_list = list(executor.map(get_smiles, sample_names))\n",
    "\n",
    "# Kiểm tra số lượng hợp chất không tìm thấy\n",
    "missing = sum(1 for s in smiles_list if s is None)\n"
   ]
  },
  {
   "cell_type": "code",
   "execution_count": 52,
   "id": "1c889b62-e95a-431f-a9a8-d92cdbee8da7",
   "metadata": {},
   "outputs": [],
   "source": [
    "sample_df=df[df['name'].isin(sample_names)].drop_duplicates(subset=['name'])\n",
    "sample_df['smiles']=smiles_list\n",
    "sample_df=sample_df.dropna(subset=['smiles']).reset_index().drop(columns=['index'])\n",
    "\n",
    "def take_feature(smiles):\n",
    "    mol=Chem.MolFromSmiles(smiles)\n",
    "    if mol:\n",
    "        return {'LogP': Descriptors.MolLogP(mol),\n",
    "               'HBD': Descriptors.NumHDonors(mol),\n",
    "               'HBA': Descriptors.NumHAcceptors(mol)}\n",
    "    return None\n",
    "feature_df = sample_df['smiles'].dropna().apply(take_feature).apply(pd.Series)\n",
    "sample_df=pd.concat([sample_df, feature_df], axis=1)"
   ]
  },
  {
   "cell_type": "code",
   "execution_count": 62,
   "id": "3bf847ac-e94b-4813-8799-659da07c567e",
   "metadata": {},
   "outputs": [
    {
     "name": "stdout",
     "output_type": "stream",
     "text": [
      "0.9619464919329938 5.331012983907879 2.6774405557628542 -0.24140365396601982 302.43543739473216\n"
     ]
    }
   ],
   "source": [
    "from scipy.optimize import curve_fit\n",
    "def func(X,a,b,c,d,e):\n",
    "    LogP, HBD, HBA, molweight=X\n",
    "    return a*molweight + b*HBD + c*HBA + d*LogP + e\n",
    "X=np.array([sample_df['LogP'],sample_df['HBD'],sample_df['HBA'],sample_df['molweight']])\n",
    "Y=np.array(sample_df['boiling point (K)'])\n",
    "initial_guess=[1,1,1,1,1]\n",
    "\n",
    "params,_=curve_fit(func, X, Y, p0=initial_guess)\n",
    "a,b,c,d,e=params\n",
    "print(a,b,c,d,e)"
   ]
  },
  {
   "cell_type": "markdown",
   "id": "45d79147-f941-4dbe-a21d-55f942fc4ae3",
   "metadata": {},
   "source": [
    "**We findout:**\n",
    "* a = 0.96\n",
    "* b = 5.33\n",
    "* c = 2.68\n",
    "* d = -0.24\n",
    "* e = 302.44"
   ]
  },
  {
   "cell_type": "code",
   "execution_count": 64,
   "id": "c7f09899-3452-4e98-b2d4-3bb54cca707d",
   "metadata": {},
   "outputs": [
    {
     "name": "stdout",
     "output_type": "stream",
     "text": [
      "Ethanol: Estimated BP = 354.76 K\n",
      "Benzene: Estimated BP = 377.17 K\n"
     ]
    }
   ],
   "source": [
    "from rdkit import Chem\n",
    "from rdkit.Chem import Descriptors\n",
    "from rdkit.Chem import PandasTools\n",
    "\n",
    "def estimate_boiling_point(smiles):\n",
    "    mol=Chem.MolFromSmiles(smiles)\n",
    "    mw=Descriptors.MolWt(mol)\n",
    "    logp=Descriptors.MolLogP(mol)\n",
    "    HBD=Descriptors.NumHDonors(mol)\n",
    "    HBA=Descriptors.NumHAcceptors(mol)\n",
    "    return a*mw+b*HBD+c*HBA+d*logp+e\n",
    "\n",
    "# Test with ethanol and benzene\n",
    "molecules = {\"Ethanol\": \"CCO\", \"Benzene\": \"C1=CC=CC=C1\"}\n",
    "for name, smi in molecules.items():\n",
    "    print(f\"{name}: Estimated BP = {estimate_boiling_point(smi):.2f} K\")"
   ]
  },
  {
   "cell_type": "code",
   "execution_count": 78,
   "id": "bb91fe56-18d7-4154-9373-4888724992b5",
   "metadata": {},
   "outputs": [],
   "source": [
    "estimate_df=sample_df['smiles'].apply(estimate_boiling_point).apply(pd.Series)\n",
    "sample_df=pd.concat([sample_df, estimate_df], axis=1)\n",
    "estimate_df=sample_df[['name','boiling point (K)',0]]"
   ]
  },
  {
   "cell_type": "code",
   "execution_count": 82,
   "id": "dc2d40a8-4515-4f0c-b468-da3f9458d6cb",
   "metadata": {},
   "outputs": [
    {
     "data": {
      "text/html": [
       "<div>\n",
       "<style scoped>\n",
       "    .dataframe tbody tr th:only-of-type {\n",
       "        vertical-align: middle;\n",
       "    }\n",
       "\n",
       "    .dataframe tbody tr th {\n",
       "        vertical-align: top;\n",
       "    }\n",
       "\n",
       "    .dataframe thead th {\n",
       "        text-align: right;\n",
       "    }\n",
       "</style>\n",
       "<table border=\"1\" class=\"dataframe\">\n",
       "  <thead>\n",
       "    <tr style=\"text-align: right;\">\n",
       "      <th></th>\n",
       "      <th>name</th>\n",
       "      <th>boiling point (K)</th>\n",
       "      <th>Estimate Boiling Point (K)</th>\n",
       "    </tr>\n",
       "  </thead>\n",
       "  <tbody>\n",
       "    <tr>\n",
       "      <th>0</th>\n",
       "      <td>(1-ethyloctadecyl)benzene</td>\n",
       "      <td>693.15</td>\n",
       "      <td>435.189626</td>\n",
       "    </tr>\n",
       "    <tr>\n",
       "      <th>1</th>\n",
       "      <td>(R)-(-)-2-octanol</td>\n",
       "      <td>448.90</td>\n",
       "      <td>447.646298</td>\n",
       "    </tr>\n",
       "    <tr>\n",
       "      <th>2</th>\n",
       "      <td>(S)-(+)-2-amino-1-butanol</td>\n",
       "      <td>446.15</td>\n",
       "      <td>438.375428</td>\n",
       "    </tr>\n",
       "    <tr>\n",
       "      <th>3</th>\n",
       "      <td>(S)-(+)-2-butanol</td>\n",
       "      <td>372.60</td>\n",
       "      <td>461.045350</td>\n",
       "    </tr>\n",
       "    <tr>\n",
       "      <th>4</th>\n",
       "      <td>(S)-(+)-2-methylbutyric acid</td>\n",
       "      <td>409.77</td>\n",
       "      <td>515.613115</td>\n",
       "    </tr>\n",
       "    <tr>\n",
       "      <th>...</th>\n",
       "      <td>...</td>\n",
       "      <td>...</td>\n",
       "      <td>...</td>\n",
       "    </tr>\n",
       "    <tr>\n",
       "      <th>376</th>\n",
       "      <td>triethylbenzene; (mixed isomers)</td>\n",
       "      <td>490.70</td>\n",
       "      <td>507.884472</td>\n",
       "    </tr>\n",
       "    <tr>\n",
       "      <th>377</th>\n",
       "      <td>triethylenediamine</td>\n",
       "      <td>447.15</td>\n",
       "      <td>562.918316</td>\n",
       "    </tr>\n",
       "    <tr>\n",
       "      <th>378</th>\n",
       "      <td>trifluoroethene</td>\n",
       "      <td>221.01</td>\n",
       "      <td>427.541990</td>\n",
       "    </tr>\n",
       "    <tr>\n",
       "      <th>379</th>\n",
       "      <td>trihexylamine</td>\n",
       "      <td>537.15</td>\n",
       "      <td>418.280345</td>\n",
       "    </tr>\n",
       "    <tr>\n",
       "      <th>380</th>\n",
       "      <td>vinyl bromide</td>\n",
       "      <td>288.95</td>\n",
       "      <td>355.196009</td>\n",
       "    </tr>\n",
       "  </tbody>\n",
       "</table>\n",
       "<p>381 rows × 3 columns</p>\n",
       "</div>"
      ],
      "text/plain": [
       "                                 name  boiling point (K)  \\\n",
       "0           (1-ethyloctadecyl)benzene             693.15   \n",
       "1                   (R)-(-)-2-octanol             448.90   \n",
       "2           (S)-(+)-2-amino-1-butanol             446.15   \n",
       "3                   (S)-(+)-2-butanol             372.60   \n",
       "4        (S)-(+)-2-methylbutyric acid             409.77   \n",
       "..                                ...                ...   \n",
       "376  triethylbenzene; (mixed isomers)             490.70   \n",
       "377                triethylenediamine             447.15   \n",
       "378                   trifluoroethene             221.01   \n",
       "379                     trihexylamine             537.15   \n",
       "380                     vinyl bromide             288.95   \n",
       "\n",
       "     Estimate Boiling Point (K)  \n",
       "0                    435.189626  \n",
       "1                    447.646298  \n",
       "2                    438.375428  \n",
       "3                    461.045350  \n",
       "4                    515.613115  \n",
       "..                          ...  \n",
       "376                  507.884472  \n",
       "377                  562.918316  \n",
       "378                  427.541990  \n",
       "379                  418.280345  \n",
       "380                  355.196009  \n",
       "\n",
       "[381 rows x 3 columns]"
      ]
     },
     "execution_count": 82,
     "metadata": {},
     "output_type": "execute_result"
    }
   ],
   "source": [
    "estimate_df = estimate_df.loc[:, ~estimate_df.columns.duplicated()].rename(columns={0:'Estimate Boiling Point (K)'})\n",
    "estimate_df"
   ]
  },
  {
   "cell_type": "code",
   "execution_count": 125,
   "id": "bc00578e-f83a-4f64-890d-06d8a91faa9e",
   "metadata": {},
   "outputs": [
    {
     "data": {
      "image/png": "[encoded data removed]",
      "text/plain": [
       "<Figure size 640x480 with 1 Axes>"
      ]
     },
     "metadata": {},
     "output_type": "display_data"
    }
   ],
   "source": [
    "sns.histplot(data=estimate_df['boiling point (K)'], kde=True,label=\"Actual BP\", color='blue', line_kws={'linewidth': 3});\n",
    "sns.histplot(data=estimate_df['Estimate Boiling Point (K)'], kde=True,label=\"Estimated BP\", color='#FF5733', line_kws={'linewidth': 3});\n",
    "plt.legend()\n",
    "plt.show()"
   ]
  },
  {
   "cell_type": "markdown",
   "id": "cce02d15-ad6c-47e4-8db5-aba310c99e01",
   "metadata": {},
   "source": [
    "**Key Observation** \n",
    "* 2 lines are quite separated. It means the predicted figure is far from the exact figure.\n",
    "Therefore, we shouldn't use this simple function to estimate exact boiling point\n",
    "* Still, it's a good way to start estimating process"
   ]
  },
  {
   "cell_type": "markdown",
   "id": "0c26b056-d667-4f66-838a-e1a68dbd4155",
   "metadata": {},
   "source": [
    "# 2. Lipinski's Rule of Five for Drug-Likeness\n",
    "\n",
    "**Task**: Check if a molecule follows Lipinski's Rule of Five, which predicts if a compound is likely to be orally active as a drug.\n",
    "\n",
    "**Rules**:\n",
    "\n",
    "✅ MW ≤ 500\n",
    "\n",
    "✅ LogP ≤ 5\n",
    "\n",
    "✅ ≤ 5 Hydrogen Bond Donors\n",
    "\n",
    "✅ ≤ 10 Hydrogen Bond Acceptors"
   ]
  },
  {
   "cell_type": "code",
   "execution_count": 137,
   "id": "8485180e-7b6f-4f5d-b9e1-8746127bab1a",
   "metadata": {},
   "outputs": [
    {
     "name": "stdout",
     "output_type": "stream",
     "text": [
      "Ethanol: Lipinski Check = True\n",
      "Benzene: Lipinski Check = True\n"
     ]
    }
   ],
   "source": [
    "def lipinski_check(smiles):\n",
    "    mol=Chem.MolFromSmiles(smiles)\n",
    "    mw=Descriptors.MolWt(mol)\n",
    "    logp=Descriptors.MolLogP(mol)\n",
    "    HBD=Descriptors.NumHDonors(mol)\n",
    "    HBA=Descriptors.NumHAcceptors(mol)\n",
    "    return (mw<=500) and (logp<=5) and (HBD<=5) and (HBA<=10)\n",
    "\n",
    "# Test with ethanol and benzene\n",
    "molecules = {\"Ethanol\": \"CCO\", \"Benzene\": \"C1=CC=CC=C1\"}\n",
    "for name, smi in molecules.items():\n",
    "    print(f\"{name}: Lipinski Check = {lipinski_check(smi)}\")"
   ]
  },
  {
   "cell_type": "code",
   "execution_count": 140,
   "id": "085f1b32-9c2d-4f3c-963c-be473e1f1617",
   "metadata": {},
   "outputs": [],
   "source": [
    "sample_df = sample_df.loc[:, ~sample_df.columns.duplicated()].rename(columns={0:'Estimate Boiling Point (K)'})\n",
    "a = sample_df['smiles'].apply(lipinski_check).apply(pd.Series)\n",
    "sample_df=pd.concat((sample_df,a),axis=1).rename(columns={0:'Lipinski_check'})"
   ]
  },
  {
   "cell_type": "code",
   "execution_count": 162,
   "id": "53d06118-814f-4e2d-b9b6-236c1e9b7afd",
   "metadata": {},
   "outputs": [
    {
     "data": {
      "text/html": [
       "<div>\n",
       "<style scoped>\n",
       "    .dataframe tbody tr th:only-of-type {\n",
       "        vertical-align: middle;\n",
       "    }\n",
       "\n",
       "    .dataframe tbody tr th {\n",
       "        vertical-align: top;\n",
       "    }\n",
       "\n",
       "    .dataframe thead th {\n",
       "        text-align: right;\n",
       "    }\n",
       "</style>\n",
       "<table border=\"1\" class=\"dataframe\">\n",
       "  <thead>\n",
       "    <tr style=\"text-align: right;\">\n",
       "      <th></th>\n",
       "      <th>Lipinski_check</th>\n",
       "      <th>count</th>\n",
       "    </tr>\n",
       "  </thead>\n",
       "  <tbody>\n",
       "    <tr>\n",
       "      <th>0</th>\n",
       "      <td>True</td>\n",
       "      <td>341</td>\n",
       "    </tr>\n",
       "    <tr>\n",
       "      <th>1</th>\n",
       "      <td>False</td>\n",
       "      <td>40</td>\n",
       "    </tr>\n",
       "  </tbody>\n",
       "</table>\n",
       "</div>"
      ],
      "text/plain": [
       "   Lipinski_check  count\n",
       "0            True    341\n",
       "1           False     40"
      ]
     },
     "execution_count": 162,
     "metadata": {},
     "output_type": "execute_result"
    }
   ],
   "source": [
    "lipinski_df=sample_df[['name','Lipinski_check']]\n",
    "lipinski_df=lipinski_df['Lipinski_check'].value_counts().to_frame().reset_index()\n",
    "lipinski_df"
   ]
  },
  {
   "cell_type": "code",
   "execution_count": 224,
   "id": "b4355b66-29f0-4280-acf4-d0edc3b8d59a",
   "metadata": {},
   "outputs": [
    {
     "data": {
      "image/png": "[encoded data removed]",
      "text/plain": [
       "<Figure size 640x480 with 1 Axes>"
      ]
     },
     "metadata": {},
     "output_type": "display_data"
    }
   ],
   "source": [
    "fig, ax=plt.subplots()\n",
    "ax.pie(lipinski_df['count'], labels=['drug-like','non-drug-like'], autopct='%1.1f%%')\n",
    "plt.title(\"Percentage of molecules follow Lipinski's Rule of Five\")\n",
    "plt.show()"
   ]
  },
  {
   "cell_type": "markdown",
   "id": "bb122f78-9b67-4931-97d7-c0e197ca4751",
   "metadata": {},
   "source": [
    "**Key Observation**: most of the substances follow Lipinski's Rule of Five, only 10.5% not follow"
   ]
  },
  {
   "cell_type": "markdown",
   "id": "7c597d75-22ac-4280-9128-2c8f7f87c0f1",
   "metadata": {},
   "source": [
    "# 3. Identifying Potentially Reactive Molecules\n",
    "**Task**: Check for the presence of functional groups that make a molecule chemically reactive. "
   ]
  },
  {
   "cell_type": "code",
   "execution_count": 206,
   "id": "ff0d3f30-1c3c-43a3-a42c-b9bfca54be19",
   "metadata": {},
   "outputs": [
    {
     "name": "stdout",
     "output_type": "stream",
     "text": [
      "Formaldehyde: ['Aldehyde']\n",
      "Ethylene Oxide: ['Epoxide']\n",
      "Hydrogen Peroxide: ['Peroxide']\n"
     ]
    }
   ],
   "source": [
    "from rdkit.Chem import rdMolDescriptors\n",
    "reactive_groups={\n",
    "    'Acyl Halide':'CC(=O)Cl',\n",
    "    'Acid Anhydride':'CC(=O)OC(=O)C',\n",
    "    'Epoxide':'C1CO1',\n",
    "    'Aldehyde':'[CX3H1](=O) | [CH2]=O',\n",
    "    'Ketone': 'CC(=O)C',\n",
    "    'Thiol (-SH)':'CCS',\n",
    "    'Primary Amine (-NH₂)':'CN',\n",
    "    'Secondary Amine (-NHR)':'CN(C)C',\n",
    "    'Phenol':'c1ccc(cc1)O',\n",
    "    'Peroxide':'OO',\n",
    "    'Aziridine (Three-membered nitrogen ring)':'C1CN1',\n",
    "    'Nitro':'c1ccc(cc1)[N+](=O)[O-]',\n",
    "    'Sulfonyl (-SO₂R)':'CS(=O)(=O)Cl'\n",
    "}\n",
    "def check_reactivity(smiles):\n",
    "    mol = Chem.MolFromSmiles(smiles)\n",
    "    results = {}\n",
    "    for group, pattern in reactive_groups.items():\n",
    "        subpatterns = pattern.split(\" | \")  # Allow multiple SMARTS patterns\n",
    "        results[group] = any(mol.HasSubstructMatch(Chem.MolFromSmarts(p)) for p in subpatterns)\n",
    "    return [i for i in results.keys() if results[i]]\n",
    "\n",
    "# Test with reactive molecules\n",
    "molecules = {\"Formaldehyde\": \"C=O\", \"Ethylene Oxide\": \"C1CO1\", \"Hydrogen Peroxide\": \"OO\"}\n",
    "for name, smi in molecules.items():\n",
    "    print(f\"{name}: {check_reactivity(smi)}\")"
   ]
  },
  {
   "cell_type": "code",
   "execution_count": 210,
   "id": "d21cd78c-666c-4db2-b3ac-320389f9dd02",
   "metadata": {},
   "outputs": [],
   "source": [
    "react_check_df=sample_df['smiles'].apply(check_reactivity).apply(pd.Series)\n",
    "sample_df=pd.concat([sample_df,react_check_df], axis=1).rename(columns={0:'Reactivity'})"
   ]
  },
  {
   "cell_type": "code",
   "execution_count": 211,
   "id": "620a09eb-3c5c-4ed8-803f-1436d4813990",
   "metadata": {},
   "outputs": [],
   "source": [
    "react_df=sample_df[['name','Reactivity']]"
   ]
  },
  {
   "cell_type": "code",
   "execution_count": 212,
   "id": "37c74c4d-26da-40af-84ea-95073217af7f",
   "metadata": {},
   "outputs": [
    {
     "data": {
      "text/html": [
       "<div>\n",
       "<style scoped>\n",
       "    .dataframe tbody tr th:only-of-type {\n",
       "        vertical-align: middle;\n",
       "    }\n",
       "\n",
       "    .dataframe tbody tr th {\n",
       "        vertical-align: top;\n",
       "    }\n",
       "\n",
       "    .dataframe thead th {\n",
       "        text-align: right;\n",
       "    }\n",
       "</style>\n",
       "<table border=\"1\" class=\"dataframe\">\n",
       "  <thead>\n",
       "    <tr style=\"text-align: right;\">\n",
       "      <th></th>\n",
       "      <th>name</th>\n",
       "      <th>Reactivity</th>\n",
       "    </tr>\n",
       "  </thead>\n",
       "  <tbody>\n",
       "    <tr>\n",
       "      <th>0</th>\n",
       "      <td>(1-ethyloctadecyl)benzene</td>\n",
       "      <td>NaN</td>\n",
       "    </tr>\n",
       "    <tr>\n",
       "      <th>1</th>\n",
       "      <td>(R)-(-)-2-octanol</td>\n",
       "      <td>Primary Amine (-NH₂)</td>\n",
       "    </tr>\n",
       "    <tr>\n",
       "      <th>2</th>\n",
       "      <td>(S)-(+)-2-amino-1-butanol</td>\n",
       "      <td>NaN</td>\n",
       "    </tr>\n",
       "    <tr>\n",
       "      <th>3</th>\n",
       "      <td>(S)-(+)-2-butanol</td>\n",
       "      <td>Primary Amine (-NH₂)</td>\n",
       "    </tr>\n",
       "    <tr>\n",
       "      <th>4</th>\n",
       "      <td>(S)-(+)-2-methylbutyric acid</td>\n",
       "      <td>NaN</td>\n",
       "    </tr>\n",
       "    <tr>\n",
       "      <th>...</th>\n",
       "      <td>...</td>\n",
       "      <td>...</td>\n",
       "    </tr>\n",
       "    <tr>\n",
       "      <th>376</th>\n",
       "      <td>triethylbenzene; (mixed isomers)</td>\n",
       "      <td>Phenol</td>\n",
       "    </tr>\n",
       "    <tr>\n",
       "      <th>377</th>\n",
       "      <td>triethylenediamine</td>\n",
       "      <td>Primary Amine (-NH₂)</td>\n",
       "    </tr>\n",
       "    <tr>\n",
       "      <th>378</th>\n",
       "      <td>trifluoroethene</td>\n",
       "      <td>NaN</td>\n",
       "    </tr>\n",
       "    <tr>\n",
       "      <th>379</th>\n",
       "      <td>trihexylamine</td>\n",
       "      <td>Thiol (-SH)</td>\n",
       "    </tr>\n",
       "    <tr>\n",
       "      <th>380</th>\n",
       "      <td>vinyl bromide</td>\n",
       "      <td>Primary Amine (-NH₂)</td>\n",
       "    </tr>\n",
       "  </tbody>\n",
       "</table>\n",
       "<p>381 rows × 2 columns</p>\n",
       "</div>"
      ],
      "text/plain": [
       "                                 name            Reactivity\n",
       "0           (1-ethyloctadecyl)benzene                   NaN\n",
       "1                   (R)-(-)-2-octanol  Primary Amine (-NH₂)\n",
       "2           (S)-(+)-2-amino-1-butanol                   NaN\n",
       "3                   (S)-(+)-2-butanol  Primary Amine (-NH₂)\n",
       "4        (S)-(+)-2-methylbutyric acid                   NaN\n",
       "..                                ...                   ...\n",
       "376  triethylbenzene; (mixed isomers)                Phenol\n",
       "377                triethylenediamine  Primary Amine (-NH₂)\n",
       "378                   trifluoroethene                   NaN\n",
       "379                     trihexylamine           Thiol (-SH)\n",
       "380                     vinyl bromide  Primary Amine (-NH₂)\n",
       "\n",
       "[381 rows x 2 columns]"
      ]
     },
     "execution_count": 212,
     "metadata": {},
     "output_type": "execute_result"
    }
   ],
   "source": [
    "react_df"
   ]
  },
  {
   "cell_type": "code",
   "execution_count": 223,
   "id": "e7514abd-77ef-481a-8962-e2eec7fac2d5",
   "metadata": {},
   "outputs": [
    {
     "data": {
      "text/html": [
       "<div>\n",
       "<style scoped>\n",
       "    .dataframe tbody tr th:only-of-type {\n",
       "        vertical-align: middle;\n",
       "    }\n",
       "\n",
       "    .dataframe tbody tr th {\n",
       "        vertical-align: top;\n",
       "    }\n",
       "\n",
       "    .dataframe thead th {\n",
       "        text-align: right;\n",
       "    }\n",
       "</style>\n",
       "<table border=\"1\" class=\"dataframe\">\n",
       "  <thead>\n",
       "    <tr style=\"text-align: right;\">\n",
       "      <th></th>\n",
       "      <th>Reactivity</th>\n",
       "      <th>count</th>\n",
       "      <th>Percentage</th>\n",
       "    </tr>\n",
       "  </thead>\n",
       "  <tbody>\n",
       "    <tr>\n",
       "      <th>0</th>\n",
       "      <td>Primary Amine (-NH₂)</td>\n",
       "      <td>28</td>\n",
       "      <td>7.35</td>\n",
       "    </tr>\n",
       "    <tr>\n",
       "      <th>1</th>\n",
       "      <td>Phenol</td>\n",
       "      <td>14</td>\n",
       "      <td>3.67</td>\n",
       "    </tr>\n",
       "    <tr>\n",
       "      <th>2</th>\n",
       "      <td>Aldehyde</td>\n",
       "      <td>8</td>\n",
       "      <td>2.10</td>\n",
       "    </tr>\n",
       "    <tr>\n",
       "      <th>3</th>\n",
       "      <td>Thiol (-SH)</td>\n",
       "      <td>8</td>\n",
       "      <td>2.10</td>\n",
       "    </tr>\n",
       "    <tr>\n",
       "      <th>4</th>\n",
       "      <td>Ketone</td>\n",
       "      <td>5</td>\n",
       "      <td>1.31</td>\n",
       "    </tr>\n",
       "    <tr>\n",
       "      <th>5</th>\n",
       "      <td>Epoxide</td>\n",
       "      <td>1</td>\n",
       "      <td>0.26</td>\n",
       "    </tr>\n",
       "    <tr>\n",
       "      <th>6</th>\n",
       "      <td>Peroxide</td>\n",
       "      <td>1</td>\n",
       "      <td>0.26</td>\n",
       "    </tr>\n",
       "  </tbody>\n",
       "</table>\n",
       "</div>"
      ],
      "text/plain": [
       "             Reactivity  count  Percentage\n",
       "0  Primary Amine (-NH₂)     28        7.35\n",
       "1                Phenol     14        3.67\n",
       "2              Aldehyde      8        2.10\n",
       "3           Thiol (-SH)      8        2.10\n",
       "4                Ketone      5        1.31\n",
       "5               Epoxide      1        0.26\n",
       "6              Peroxide      1        0.26"
      ]
     },
     "execution_count": 223,
     "metadata": {},
     "output_type": "execute_result"
    }
   ],
   "source": [
    "stats= react_df['Reactivity'].value_counts().to_frame().reset_index()\n",
    "stats['Percentage']=round(stats['count']/381*100,2)\n",
    "stats"
   ]
  },
  {
   "cell_type": "markdown",
   "id": "e4a368fd-200c-4ee5-a5b5-986dac11d5de",
   "metadata": {},
   "source": [
    "**Key Observations**\n",
    "- **Primary Amines (-NH₂)** are the most abundant, making up **7.35%** of the total dataset.  \n",
    "- **Phenols** and **Aldehydes** appear moderately frequently (**3.67%** and **2.10%**, respectively).  \n",
    "- **Rare Functional Groups**: Epoxide and Peroxide are the least represented, each at **0.26%**.  \n",
    "- The dataset suggests a strong prevalence of amine-containing compounds, potentially due to their importance in biochemical and pharmaceutical applications.  \n"
   ]
  },
  {
   "cell_type": "code",
   "execution_count": null,
   "id": "58d57cec-cd8b-49dd-af7b-0e5896555c68",
   "metadata": {},
   "outputs": [],
   "source": []
  }
 ],
 "metadata": {
  "kernelspec": {
   "display_name": "Python 3 (ipykernel)",
   "language": "python",
   "name": "python3"
  },
  "language_info": {
   "codemirror_mode": {
    "name": "ipython",
    "version": 3
   },
   "file_extension": ".py",
   "mimetype": "text/x-python",
   "name": "python",
   "nbconvert_exporter": "python",
   "pygments_lexer": "ipython3",
   "version": "3.13.1"
  }
 },
 "nbformat": 4,
 "nbformat_minor": 5
}
